{
 "cells": [
  {
   "cell_type": "markdown",
   "id": "d93d061f-d6f2-4d68-b3c5-5f0bae7c1e26",
   "metadata": {},
   "source": [
    "# Data Science Tools and Ecosystem"
   ]
  },
  {
   "cell_type": "markdown",
   "id": "5ccba050-d217-47f0-ae39-6eb6d0f8d9dc",
   "metadata": {},
   "source": [
    "In this notebook, Data Science Tools and Ecosystem are summarized."
   ]
  },
  {
   "cell_type": "markdown",
   "id": "8b7dca6c-be07-4201-b302-349fbace8032",
   "metadata": {
    "tags": []
   },
   "source": [
    "## Objectives: ##\n",
    "- Understand the various processes involved in data science;\n",
    "- Understand and list the popular languages in data science;\n",
    "- Understand and list the popular libraries used by data scientists;\n",
    "- Understand and list the popular tools used by data scientists;\n",
    "- To get hands on experience with the popular libraries and tools in data science;"
   ]
  },
  {
   "cell_type": "markdown",
   "id": "46ae7c1b-e18b-4ff1-8f1e-6410f136d884",
   "metadata": {},
   "source": [
    "Some of the popular languages that Data Scientists use are:\n",
    "1. Python;\n",
    "2. SQL;\n",
    "3. R;\n",
    "4. Scala;\n",
    "5. Julia;\n",
    "6. Java;"
   ]
  },
  {
   "cell_type": "markdown",
   "id": "16acf8b3-2209-4b0c-8a0c-846cc17ca28c",
   "metadata": {},
   "source": [
    "Some of the commonly used libraries used by Data Scientists include:\n",
    "1. Matplotlib;\n",
    "2. Numpy;\n",
    "3. Sci-kit learn;\n",
    "4. Seaborn;"
   ]
  },
  {
   "cell_type": "markdown",
   "id": "4857ef1e-23c2-4daa-9a04-3c9704f73bc4",
   "metadata": {},
   "source": [
    "| Data Science Tools |\n",
    "| -------------------|\n",
    "| MYSQL|\n",
    "| Git Hub |\n",
    "| R Studio |\n",
    "| Spyder |\n"
   ]
  },
  {
   "cell_type": "markdown",
   "id": "dca17ab1-ff96-4abb-a756-e9b72636cd22",
   "metadata": {},
   "source": [
    "### Below are a few examples of evaluating arithmetic expressions in Python"
   ]
  },
  {
   "cell_type": "code",
   "execution_count": 2,
   "id": "634d62fe-e177-43a5-af3e-1e79dff51027",
   "metadata": {},
   "outputs": [
    {
     "data": {
      "text/plain": [
       "17"
      ]
     },
     "execution_count": 2,
     "metadata": {},
     "output_type": "execute_result"
    }
   ],
   "source": [
    "# This a simple arithmetic expression to mutiply then add integers\n",
    "(3*4)+5"
   ]
  },
  {
   "cell_type": "code",
   "execution_count": null,
   "id": "54a7b558-db37-4212-9492-4c3d75aa48fe",
   "metadata": {},
   "outputs": [
    {
     "data": {
      "text/plain": [
       "3.3333333333333335"
      ]
     },
     "execution_count": 3,
     "metadata": {},
     "output_type": "execute_result"
    }
   ],
   "source": [
    "# This will convert 200 minutes to hours by diving by 60\n",
    "(200/60)"
   ]
  },
  {
   "cell_type": "markdown",
   "id": "5b084e03-eaa1-46eb-bba5-65833527c834",
   "metadata": {},
   "source": [
    "## Author:\n",
    "Vasudev Karanth"
   ]
  }
 ],
 "metadata": {
  "kernelspec": {
   "display_name": "Python",
   "language": "python",
   "name": "conda-env-python-py"
  },
  "language_info": {
   "codemirror_mode": {
    "name": "ipython",
    "version": 3
   },
   "file_extension": ".py",
   "mimetype": "text/x-python",
   "name": "python",
   "nbconvert_exporter": "python",
   "pygments_lexer": "ipython3",
   "version": "3.7.12"
  }
 },
 "nbformat": 4,
 "nbformat_minor": 5
}
